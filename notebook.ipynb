{
 "cells": [
  {
   "cell_type": "code",
   "execution_count": 2,
   "id": "10e9f495",
   "metadata": {},
   "outputs": [],
   "source": [
    "import pandas as pd"
   ]
  },
  {
   "cell_type": "code",
   "execution_count": 3,
   "id": "cef4037e",
   "metadata": {},
   "outputs": [],
   "source": [
    "R3000_news = pd.read_csv( \"./data/R3000/news_D.csv\" )\n",
    "MS50_news = pd.read_csv( \"./data/MS50/news_D.csv\" )\n",
    "MS50_tickers = pd.read_csv( \"./data/MS50/tickers.csv\" )"
   ]
  },
  {
   "cell_type": "code",
   "execution_count": 4,
   "id": "108e9267",
   "metadata": {},
   "outputs": [],
   "source": [
    "tickers = MS50_tickers[\"ticker\"].dropna().unique().tolist()"
   ]
  },
  {
   "cell_type": "code",
   "execution_count": 5,
   "id": "c54bd94b",
   "metadata": {},
   "outputs": [],
   "source": [
    "R3000_subset = R3000_news[R3000_news[\"ticker\"].isin(tickers)]"
   ]
  },
  {
   "cell_type": "code",
   "execution_count": 6,
   "id": "2600a219",
   "metadata": {},
   "outputs": [],
   "source": [
    "merged_news = pd.concat([MS50_news, R3000_subset], ignore_index=True).drop_duplicates()"
   ]
  },
  {
   "cell_type": "code",
   "execution_count": 9,
   "id": "fe8fd1a1",
   "metadata": {},
   "outputs": [],
   "source": [
    "merged_news.to_csv(\"./data/MS50/news_D.csv\", index=False)"
   ]
  },
  {
   "cell_type": "code",
   "execution_count": null,
   "id": "2bd0aa9f",
   "metadata": {},
   "outputs": [],
   "source": []
  }
 ],
 "metadata": {
  "kernelspec": {
   "display_name": "finance",
   "language": "python",
   "name": "python3"
  },
  "language_info": {
   "codemirror_mode": {
    "name": "ipython",
    "version": 3
   },
   "file_extension": ".py",
   "mimetype": "text/x-python",
   "name": "python",
   "nbconvert_exporter": "python",
   "pygments_lexer": "ipython3",
   "version": "3.13.2"
  }
 },
 "nbformat": 4,
 "nbformat_minor": 5
}

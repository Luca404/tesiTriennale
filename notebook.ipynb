{
 "cells": [
  {
   "cell_type": "code",
   "execution_count": 75,
   "id": "10e9f495",
   "metadata": {},
   "outputs": [],
   "source": [
    "import pandas as pd"
   ]
  },
  {
   "cell_type": "code",
   "execution_count": 91,
   "id": "db5bee47",
   "metadata": {},
   "outputs": [],
   "source": [
    "MS50 = pd.read_csv( \"./data/MS50/merged_data.csv\" )\n",
    "R3000 = pd.read_csv( \"./data/R3000/merged_data.csv\" )"
   ]
  },
  {
   "cell_type": "code",
   "execution_count": 92,
   "id": "4bfba00f",
   "metadata": {},
   "outputs": [],
   "source": [
    "tickers = MS50[\"ticker\"].unique().tolist()"
   ]
  },
  {
   "cell_type": "code",
   "execution_count": 93,
   "id": "fa3edbab",
   "metadata": {},
   "outputs": [
    {
     "data": {
      "text/plain": [
       "25"
      ]
     },
     "execution_count": 93,
     "metadata": {},
     "output_type": "execute_result"
    }
   ],
   "source": [
    "len( tickers )"
   ]
  },
  {
   "cell_type": "code",
   "execution_count": 94,
   "id": "9de42f73",
   "metadata": {},
   "outputs": [],
   "source": [
    "filtered = R3000[~R3000[\"ticker\"].isin(tickers)].reset_index(drop=True)"
   ]
  },
  {
   "cell_type": "code",
   "execution_count": 100,
   "id": "31b0c8c8",
   "metadata": {},
   "outputs": [
    {
     "data": {
      "text/plain": [
       "25"
      ]
     },
     "execution_count": 100,
     "metadata": {},
     "output_type": "execute_result"
    }
   ],
   "source": [
    "len( MS50[\"ticker\"].unique() )"
   ]
  },
  {
   "cell_type": "code",
   "execution_count": 99,
   "id": "ecb45a57",
   "metadata": {},
   "outputs": [],
   "source": [
    "filtered.to_csv( \"./data/dataset_no-meme.csv\", index=False )\n",
    "MS50.to_csv( \"./data/dataset_meme.csv\", index=False )"
   ]
  },
  {
   "cell_type": "code",
   "execution_count": 89,
   "id": "262b7b8c",
   "metadata": {},
   "outputs": [
    {
     "data": {
      "text/html": [
       "<div>\n",
       "<style scoped>\n",
       "    .dataframe tbody tr th:only-of-type {\n",
       "        vertical-align: middle;\n",
       "    }\n",
       "\n",
       "    .dataframe tbody tr th {\n",
       "        vertical-align: top;\n",
       "    }\n",
       "\n",
       "    .dataframe thead th {\n",
       "        text-align: right;\n",
       "    }\n",
       "</style>\n",
       "<table border=\"1\" class=\"dataframe\">\n",
       "  <thead>\n",
       "    <tr style=\"text-align: right;\">\n",
       "      <th></th>\n",
       "      <th>date</th>\n",
       "      <th>ticker</th>\n",
       "      <th>close</th>\n",
       "      <th>d2c</th>\n",
       "      <th>shorts</th>\n",
       "      <th>volume</th>\n",
       "      <th>trend_score</th>\n",
       "      <th>news_volume</th>\n",
       "      <th>wiki_views</th>\n",
       "    </tr>\n",
       "  </thead>\n",
       "  <tbody>\n",
       "    <tr>\n",
       "      <th>0</th>\n",
       "      <td>2020-10-30</td>\n",
       "      <td>AAL</td>\n",
       "      <td>11.28</td>\n",
       "      <td>3.14</td>\n",
       "      <td>172765872</td>\n",
       "      <td>55107304</td>\n",
       "      <td>15.5</td>\n",
       "      <td>12</td>\n",
       "      <td>7010</td>\n",
       "    </tr>\n",
       "    <tr>\n",
       "      <th>1</th>\n",
       "      <td>2020-11-13</td>\n",
       "      <td>AAL</td>\n",
       "      <td>12.24</td>\n",
       "      <td>1.93</td>\n",
       "      <td>141817804</td>\n",
       "      <td>73589497</td>\n",
       "      <td>15.5</td>\n",
       "      <td>21</td>\n",
       "      <td>5491</td>\n",
       "    </tr>\n",
       "    <tr>\n",
       "      <th>2</th>\n",
       "      <td>2020-11-30</td>\n",
       "      <td>AAL</td>\n",
       "      <td>14.13</td>\n",
       "      <td>1.76</td>\n",
       "      <td>141848467</td>\n",
       "      <td>80739188</td>\n",
       "      <td>20.0</td>\n",
       "      <td>41</td>\n",
       "      <td>7820</td>\n",
       "    </tr>\n",
       "    <tr>\n",
       "      <th>3</th>\n",
       "      <td>2020-12-15</td>\n",
       "      <td>AAL</td>\n",
       "      <td>17.01</td>\n",
       "      <td>1.59</td>\n",
       "      <td>160823723</td>\n",
       "      <td>101002470</td>\n",
       "      <td>22.5</td>\n",
       "      <td>54</td>\n",
       "      <td>6571</td>\n",
       "    </tr>\n",
       "    <tr>\n",
       "      <th>4</th>\n",
       "      <td>2020-12-31</td>\n",
       "      <td>AAL</td>\n",
       "      <td>15.77</td>\n",
       "      <td>3.13</td>\n",
       "      <td>171336981</td>\n",
       "      <td>54682584</td>\n",
       "      <td>16.0</td>\n",
       "      <td>48</td>\n",
       "      <td>7490</td>\n",
       "    </tr>\n",
       "    <tr>\n",
       "      <th>...</th>\n",
       "      <td>...</td>\n",
       "      <td>...</td>\n",
       "      <td>...</td>\n",
       "      <td>...</td>\n",
       "      <td>...</td>\n",
       "      <td>...</td>\n",
       "      <td>...</td>\n",
       "      <td>...</td>\n",
       "      <td>...</td>\n",
       "    </tr>\n",
       "    <tr>\n",
       "      <th>2914</th>\n",
       "      <td>2025-07-15</td>\n",
       "      <td>TRVG</td>\n",
       "      <td>3.57</td>\n",
       "      <td>2.88</td>\n",
       "      <td>159234</td>\n",
       "      <td>55368</td>\n",
       "      <td>0.0</td>\n",
       "      <td>0</td>\n",
       "      <td>5634</td>\n",
       "    </tr>\n",
       "    <tr>\n",
       "      <th>2915</th>\n",
       "      <td>2025-07-31</td>\n",
       "      <td>TRVG</td>\n",
       "      <td>3.95</td>\n",
       "      <td>1.72</td>\n",
       "      <td>69521</td>\n",
       "      <td>40333</td>\n",
       "      <td>0.0</td>\n",
       "      <td>1</td>\n",
       "      <td>6107</td>\n",
       "    </tr>\n",
       "    <tr>\n",
       "      <th>2916</th>\n",
       "      <td>2025-08-15</td>\n",
       "      <td>TRVG</td>\n",
       "      <td>3.36</td>\n",
       "      <td>1.00</td>\n",
       "      <td>152033</td>\n",
       "      <td>167300</td>\n",
       "      <td>0.0</td>\n",
       "      <td>3</td>\n",
       "      <td>5017</td>\n",
       "    </tr>\n",
       "    <tr>\n",
       "      <th>2917</th>\n",
       "      <td>2025-08-29</td>\n",
       "      <td>TRVG</td>\n",
       "      <td>3.36</td>\n",
       "      <td>1.76</td>\n",
       "      <td>97608</td>\n",
       "      <td>55527</td>\n",
       "      <td>0.0</td>\n",
       "      <td>0</td>\n",
       "      <td>3665</td>\n",
       "    </tr>\n",
       "    <tr>\n",
       "      <th>2918</th>\n",
       "      <td>2025-09-15</td>\n",
       "      <td>TRVG</td>\n",
       "      <td>3.37</td>\n",
       "      <td>1.08</td>\n",
       "      <td>75512</td>\n",
       "      <td>69608</td>\n",
       "      <td>0.0</td>\n",
       "      <td>0</td>\n",
       "      <td>3309</td>\n",
       "    </tr>\n",
       "  </tbody>\n",
       "</table>\n",
       "<p>2919 rows × 9 columns</p>\n",
       "</div>"
      ],
      "text/plain": [
       "            date ticker  close   d2c     shorts     volume  trend_score  \\\n",
       "0     2020-10-30    AAL  11.28  3.14  172765872   55107304         15.5   \n",
       "1     2020-11-13    AAL  12.24  1.93  141817804   73589497         15.5   \n",
       "2     2020-11-30    AAL  14.13  1.76  141848467   80739188         20.0   \n",
       "3     2020-12-15    AAL  17.01  1.59  160823723  101002470         22.5   \n",
       "4     2020-12-31    AAL  15.77  3.13  171336981   54682584         16.0   \n",
       "...          ...    ...    ...   ...        ...        ...          ...   \n",
       "2914  2025-07-15   TRVG   3.57  2.88     159234      55368          0.0   \n",
       "2915  2025-07-31   TRVG   3.95  1.72      69521      40333          0.0   \n",
       "2916  2025-08-15   TRVG   3.36  1.00     152033     167300          0.0   \n",
       "2917  2025-08-29   TRVG   3.36  1.76      97608      55527          0.0   \n",
       "2918  2025-09-15   TRVG   3.37  1.08      75512      69608          0.0   \n",
       "\n",
       "      news_volume  wiki_views  \n",
       "0              12        7010  \n",
       "1              21        5491  \n",
       "2              41        7820  \n",
       "3              54        6571  \n",
       "4              48        7490  \n",
       "...           ...         ...  \n",
       "2914            0        5634  \n",
       "2915            1        6107  \n",
       "2916            3        5017  \n",
       "2917            0        3665  \n",
       "2918            0        3309  \n",
       "\n",
       "[2919 rows x 9 columns]"
      ]
     },
     "execution_count": 89,
     "metadata": {},
     "output_type": "execute_result"
    }
   ],
   "source": [
    "MS50"
   ]
  },
  {
   "cell_type": "code",
   "execution_count": 88,
   "id": "57588b24",
   "metadata": {},
   "outputs": [
    {
     "data": {
      "text/plain": [
       "25"
      ]
     },
     "execution_count": 88,
     "metadata": {},
     "output_type": "execute_result"
    }
   ],
   "source": [
    "len( filtered[\"ticker\"].unique() )"
   ]
  },
  {
   "cell_type": "code",
   "execution_count": 86,
   "id": "057ffa78",
   "metadata": {},
   "outputs": [],
   "source": [
    "mask_nonzero = MS50.groupby(\"ticker\")[\"trend_score\"].transform(lambda x: x.ne(0).any())\n",
    "filtered = MS50[mask_nonzero]"
   ]
  },
  {
   "cell_type": "code",
   "execution_count": 90,
   "id": "3ea858c6",
   "metadata": {},
   "outputs": [],
   "source": [
    "filtered.to_csv( \"./data/MS50/merged_data.csv\", index=False )"
   ]
  },
  {
   "cell_type": "code",
   "execution_count": null,
   "id": "b7ec98fc",
   "metadata": {},
   "outputs": [],
   "source": []
  }
 ],
 "metadata": {
  "kernelspec": {
   "display_name": "finance",
   "language": "python",
   "name": "python3"
  },
  "language_info": {
   "codemirror_mode": {
    "name": "ipython",
    "version": 3
   },
   "file_extension": ".py",
   "mimetype": "text/x-python",
   "name": "python",
   "nbconvert_exporter": "python",
   "pygments_lexer": "ipython3",
   "version": "3.13.2"
  }
 },
 "nbformat": 4,
 "nbformat_minor": 5
}

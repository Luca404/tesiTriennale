{
 "cells": [
  {
   "cell_type": "code",
   "execution_count": 2,
   "id": "e1ac52aa",
   "metadata": {},
   "outputs": [],
   "source": [
    "import pandas as pd"
   ]
  },
  {
   "cell_type": "code",
   "execution_count": 6,
   "id": "31cd795a",
   "metadata": {},
   "outputs": [],
   "source": [
    "df_raw = pd.read_csv( \"./data/dataR3000/all_short_interest_raw.csv\" )"
   ]
  },
  {
   "cell_type": "code",
   "execution_count": 7,
   "id": "274d0623",
   "metadata": {},
   "outputs": [],
   "source": [
    "df = df_raw[[\n",
    "    \"date\",                       \n",
    "    \"symbolCode\",                  \n",
    "    \"daysToCoverQuantity\",         \n",
    "    \"currentShortPositionQuantity\",\n",
    "    \"averageDailyVolumeQuantity\" \n",
    "]].copy()"
   ]
  },
  {
   "cell_type": "code",
   "execution_count": 8,
   "id": "5e93df51",
   "metadata": {},
   "outputs": [],
   "source": [
    "df.rename(columns={\n",
    "    \"symbolCode\": \"ticker\",\n",
    "    \"daysToCoverQuantity\": \"d2c\",\n",
    "    \"currentShortPositionQuantity\": \"shorts\",\n",
    "    \"averageDailyVolumeQuantity\": \"volume\"\n",
    "}, inplace=True)"
   ]
  },
  {
   "cell_type": "code",
   "execution_count": 1,
   "id": "c614b82b",
   "metadata": {},
   "outputs": [
    {
     "ename": "NameError",
     "evalue": "name 'df' is not defined",
     "output_type": "error",
     "traceback": [
      "\u001b[31m---------------------------------------------------------------------------\u001b[39m",
      "\u001b[31mNameError\u001b[39m                                 Traceback (most recent call last)",
      "\u001b[36mCell\u001b[39m\u001b[36m \u001b[39m\u001b[32mIn[1]\u001b[39m\u001b[32m, line 1\u001b[39m\n\u001b[32m----> \u001b[39m\u001b[32m1\u001b[39m \u001b[43mdf\u001b[49m\n",
      "\u001b[31mNameError\u001b[39m: name 'df' is not defined"
     ]
    }
   ],
   "source": [
    "df"
   ]
  },
  {
   "cell_type": "code",
   "execution_count": 12,
   "id": "8be273c6",
   "metadata": {},
   "outputs": [],
   "source": [
    "df[\"date\"] = pd.to_datetime(df[\"date\"])\n",
    "df = df.sort_values([\"ticker\", \"date\"]).reset_index(drop=True)"
   ]
  },
  {
   "cell_type": "code",
   "execution_count": 15,
   "id": "d0336ddd",
   "metadata": {},
   "outputs": [],
   "source": [
    "df.to_csv(\"./data/dataR3000/all_short_interest.csv\", index=False)"
   ]
  },
  {
   "cell_type": "code",
   "execution_count": null,
   "id": "6f31fb73",
   "metadata": {},
   "outputs": [],
   "source": []
  }
 ],
 "metadata": {
  "kernelspec": {
   "display_name": "Python 3",
   "language": "python",
   "name": "python3"
  },
  "language_info": {
   "codemirror_mode": {
    "name": "ipython",
    "version": 3
   },
   "file_extension": ".py",
   "mimetype": "text/x-python",
   "name": "python",
   "nbconvert_exporter": "python",
   "pygments_lexer": "ipython3",
   "version": "3.11.13"
  }
 },
 "nbformat": 4,
 "nbformat_minor": 5
}

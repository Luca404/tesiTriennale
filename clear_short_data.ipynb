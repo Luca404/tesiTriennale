{
 "cells": [
  {
   "cell_type": "code",
   "execution_count": 1,
   "id": "e1ac52aa",
   "metadata": {},
   "outputs": [],
   "source": [
    "import pandas as pd"
   ]
  },
  {
   "cell_type": "code",
   "execution_count": 2,
   "id": "776fc254",
   "metadata": {},
   "outputs": [
    {
     "name": "stdout",
     "output_type": "stream",
     "text": [
      "23\n"
     ]
    }
   ],
   "source": [
    "df = pd.read_csv( \"./data/MS50/wiki_views_D.csv\" )\n",
    "print( len( df[\"ticker\"].unique().tolist() ) )"
   ]
  },
  {
   "cell_type": "code",
   "execution_count": 2,
   "id": "31cd795a",
   "metadata": {},
   "outputs": [],
   "source": [
    "INDEX = \"MS50\"\n",
    "df_raw = pd.read_csv( f\"./data/{INDEX}/short_interest_raw.csv\" )"
   ]
  },
  {
   "cell_type": "code",
   "execution_count": 3,
   "id": "274d0623",
   "metadata": {},
   "outputs": [],
   "source": [
    "df = df_raw[[\n",
    "    \"date\",                       \n",
    "    \"symbolCode\",                  \n",
    "    \"daysToCoverQuantity\",         \n",
    "    \"currentShortPositionQuantity\",\n",
    "    \"averageDailyVolumeQuantity\" \n",
    "]].copy()"
   ]
  },
  {
   "cell_type": "code",
   "execution_count": 4,
   "id": "5e93df51",
   "metadata": {},
   "outputs": [],
   "source": [
    "df.rename(columns={\n",
    "    \"symbolCode\": \"ticker\",\n",
    "    \"daysToCoverQuantity\": \"d2c\",\n",
    "    \"currentShortPositionQuantity\": \"shorts\",\n",
    "    \"averageDailyVolumeQuantity\": \"volume\"\n",
    "}, inplace=True)"
   ]
  },
  {
   "cell_type": "code",
   "execution_count": 5,
   "id": "c614b82b",
   "metadata": {},
   "outputs": [
    {
     "data": {
      "text/html": [
       "<div>\n",
       "<style scoped>\n",
       "    .dataframe tbody tr th:only-of-type {\n",
       "        vertical-align: middle;\n",
       "    }\n",
       "\n",
       "    .dataframe tbody tr th {\n",
       "        vertical-align: top;\n",
       "    }\n",
       "\n",
       "    .dataframe thead th {\n",
       "        text-align: right;\n",
       "    }\n",
       "</style>\n",
       "<table border=\"1\" class=\"dataframe\">\n",
       "  <thead>\n",
       "    <tr style=\"text-align: right;\">\n",
       "      <th></th>\n",
       "      <th>date</th>\n",
       "      <th>ticker</th>\n",
       "      <th>d2c</th>\n",
       "      <th>shorts</th>\n",
       "      <th>volume</th>\n",
       "    </tr>\n",
       "  </thead>\n",
       "  <tbody>\n",
       "    <tr>\n",
       "      <th>0</th>\n",
       "      <td>2025-09-15</td>\n",
       "      <td>AAL</td>\n",
       "      <td>1.00</td>\n",
       "      <td>72107910</td>\n",
       "      <td>88082868</td>\n",
       "    </tr>\n",
       "    <tr>\n",
       "      <th>1</th>\n",
       "      <td>2025-09-15</td>\n",
       "      <td>ACB</td>\n",
       "      <td>7.56</td>\n",
       "      <td>6568797</td>\n",
       "      <td>868561</td>\n",
       "    </tr>\n",
       "    <tr>\n",
       "      <th>2</th>\n",
       "      <td>2025-09-15</td>\n",
       "      <td>AG</td>\n",
       "      <td>1.00</td>\n",
       "      <td>22285144</td>\n",
       "      <td>24936132</td>\n",
       "    </tr>\n",
       "    <tr>\n",
       "      <th>3</th>\n",
       "      <td>2025-09-15</td>\n",
       "      <td>AMC</td>\n",
       "      <td>4.54</td>\n",
       "      <td>44807553</td>\n",
       "      <td>9876142</td>\n",
       "    </tr>\n",
       "    <tr>\n",
       "      <th>4</th>\n",
       "      <td>2025-09-15</td>\n",
       "      <td>AMD</td>\n",
       "      <td>1.00</td>\n",
       "      <td>41767201</td>\n",
       "      <td>44203062</td>\n",
       "    </tr>\n",
       "    <tr>\n",
       "      <th>...</th>\n",
       "      <td>...</td>\n",
       "      <td>...</td>\n",
       "      <td>...</td>\n",
       "      <td>...</td>\n",
       "      <td>...</td>\n",
       "    </tr>\n",
       "    <tr>\n",
       "      <th>7203</th>\n",
       "      <td>2017-12-29</td>\n",
       "      <td>TGC</td>\n",
       "      <td>1.00</td>\n",
       "      <td>28862</td>\n",
       "      <td>109707</td>\n",
       "    </tr>\n",
       "    <tr>\n",
       "      <th>7204</th>\n",
       "      <td>2017-12-29</td>\n",
       "      <td>TR</td>\n",
       "      <td>74.62</td>\n",
       "      <td>4285843</td>\n",
       "      <td>57437</td>\n",
       "    </tr>\n",
       "    <tr>\n",
       "      <th>7205</th>\n",
       "      <td>2017-12-29</td>\n",
       "      <td>TRVG</td>\n",
       "      <td>7.81</td>\n",
       "      <td>6650734</td>\n",
       "      <td>851725</td>\n",
       "    </tr>\n",
       "    <tr>\n",
       "      <th>7206</th>\n",
       "      <td>2017-12-29</td>\n",
       "      <td>WKHS</td>\n",
       "      <td>19.76</td>\n",
       "      <td>2830016</td>\n",
       "      <td>143225</td>\n",
       "    </tr>\n",
       "    <tr>\n",
       "      <th>7207</th>\n",
       "      <td>2017-12-29</td>\n",
       "      <td>ZOM</td>\n",
       "      <td>1.00</td>\n",
       "      <td>6451</td>\n",
       "      <td>26175</td>\n",
       "    </tr>\n",
       "  </tbody>\n",
       "</table>\n",
       "<p>7208 rows × 5 columns</p>\n",
       "</div>"
      ],
      "text/plain": [
       "            date ticker    d2c    shorts    volume\n",
       "0     2025-09-15    AAL   1.00  72107910  88082868\n",
       "1     2025-09-15    ACB   7.56   6568797    868561\n",
       "2     2025-09-15     AG   1.00  22285144  24936132\n",
       "3     2025-09-15    AMC   4.54  44807553   9876142\n",
       "4     2025-09-15    AMD   1.00  41767201  44203062\n",
       "...          ...    ...    ...       ...       ...\n",
       "7203  2017-12-29    TGC   1.00     28862    109707\n",
       "7204  2017-12-29     TR  74.62   4285843     57437\n",
       "7205  2017-12-29   TRVG   7.81   6650734    851725\n",
       "7206  2017-12-29   WKHS  19.76   2830016    143225\n",
       "7207  2017-12-29    ZOM   1.00      6451     26175\n",
       "\n",
       "[7208 rows x 5 columns]"
      ]
     },
     "execution_count": 5,
     "metadata": {},
     "output_type": "execute_result"
    }
   ],
   "source": [
    "df"
   ]
  },
  {
   "cell_type": "code",
   "execution_count": 6,
   "id": "8be273c6",
   "metadata": {},
   "outputs": [],
   "source": [
    "df[\"date\"] = pd.to_datetime(df[\"date\"])\n",
    "df = df.sort_values([\"ticker\", \"date\"]).reset_index(drop=True)"
   ]
  },
  {
   "cell_type": "code",
   "execution_count": 7,
   "id": "d0336ddd",
   "metadata": {},
   "outputs": [],
   "source": [
    "df.to_csv(f\"./data/{INDEX}/short_interest.csv\", index=False)"
   ]
  }
 ],
 "metadata": {
  "kernelspec": {
   "display_name": "Python 3",
   "language": "python",
   "name": "python3"
  },
  "language_info": {
   "codemirror_mode": {
    "name": "ipython",
    "version": 3
   },
   "file_extension": ".py",
   "mimetype": "text/x-python",
   "name": "python",
   "nbconvert_exporter": "python",
   "pygments_lexer": "ipython3",
   "version": "3.11.13"
  }
 },
 "nbformat": 4,
 "nbformat_minor": 5
}

{
 "cells": [
  {
   "cell_type": "code",
   "execution_count": 1,
   "id": "e1ac52aa",
   "metadata": {},
   "outputs": [],
   "source": [
    "import pandas as pd"
   ]
  },
  {
   "cell_type": "code",
   "execution_count": 2,
   "id": "31cd795a",
   "metadata": {},
   "outputs": [],
   "source": [
    "df_raw = pd.read_csv( \"./data/dataR3000/all_short_interest_raw.csv\" )"
   ]
  },
  {
   "cell_type": "code",
   "execution_count": 3,
   "id": "274d0623",
   "metadata": {},
   "outputs": [],
   "source": [
    "df = df_raw[[\n",
    "    \"date\",                       \n",
    "    \"symbolCode\",                  \n",
    "    \"daysToCoverQuantity\",         \n",
    "    \"currentShortPositionQuantity\",\n",
    "    \"averageDailyVolumeQuantity\" \n",
    "]].copy()"
   ]
  },
  {
   "cell_type": "code",
   "execution_count": 4,
   "id": "5e93df51",
   "metadata": {},
   "outputs": [],
   "source": [
    "df.rename(columns={\n",
    "    \"symbolCode\": \"ticker\",\n",
    "    \"daysToCoverQuantity\": \"d2c\",\n",
    "    \"currentShortPositionQuantity\": \"shorts\",\n",
    "    \"averageDailyVolumeQuantity\": \"volume\"\n",
    "}, inplace=True)"
   ]
  },
  {
   "cell_type": "code",
   "execution_count": 5,
   "id": "c614b82b",
   "metadata": {},
   "outputs": [
    {
     "data": {
      "text/html": [
       "<div>\n",
       "<style scoped>\n",
       "    .dataframe tbody tr th:only-of-type {\n",
       "        vertical-align: middle;\n",
       "    }\n",
       "\n",
       "    .dataframe tbody tr th {\n",
       "        vertical-align: top;\n",
       "    }\n",
       "\n",
       "    .dataframe thead th {\n",
       "        text-align: right;\n",
       "    }\n",
       "</style>\n",
       "<table border=\"1\" class=\"dataframe\">\n",
       "  <thead>\n",
       "    <tr style=\"text-align: right;\">\n",
       "      <th></th>\n",
       "      <th>date</th>\n",
       "      <th>ticker</th>\n",
       "      <th>d2c</th>\n",
       "      <th>shorts</th>\n",
       "      <th>volume</th>\n",
       "    </tr>\n",
       "  </thead>\n",
       "  <tbody>\n",
       "    <tr>\n",
       "      <th>0</th>\n",
       "      <td>2025-09-15</td>\n",
       "      <td>A</td>\n",
       "      <td>1.66</td>\n",
       "      <td>3204313</td>\n",
       "      <td>1934505</td>\n",
       "    </tr>\n",
       "    <tr>\n",
       "      <th>1</th>\n",
       "      <td>2025-09-15</td>\n",
       "      <td>AA</td>\n",
       "      <td>1.59</td>\n",
       "      <td>10436592</td>\n",
       "      <td>6581132</td>\n",
       "    </tr>\n",
       "    <tr>\n",
       "      <th>2</th>\n",
       "      <td>2025-09-15</td>\n",
       "      <td>AAL</td>\n",
       "      <td>1.00</td>\n",
       "      <td>72107910</td>\n",
       "      <td>88082868</td>\n",
       "    </tr>\n",
       "    <tr>\n",
       "      <th>3</th>\n",
       "      <td>2025-09-15</td>\n",
       "      <td>AAOI</td>\n",
       "      <td>2.39</td>\n",
       "      <td>12200411</td>\n",
       "      <td>5101161</td>\n",
       "    </tr>\n",
       "    <tr>\n",
       "      <th>4</th>\n",
       "      <td>2025-09-15</td>\n",
       "      <td>AAON</td>\n",
       "      <td>6.31</td>\n",
       "      <td>5935170</td>\n",
       "      <td>940702</td>\n",
       "    </tr>\n",
       "    <tr>\n",
       "      <th>...</th>\n",
       "      <td>...</td>\n",
       "      <td>...</td>\n",
       "      <td>...</td>\n",
       "      <td>...</td>\n",
       "      <td>...</td>\n",
       "    </tr>\n",
       "    <tr>\n",
       "      <th>597124</th>\n",
       "      <td>2017-12-29</td>\n",
       "      <td>ZNGA</td>\n",
       "      <td>1.77</td>\n",
       "      <td>12200625</td>\n",
       "      <td>6908904</td>\n",
       "    </tr>\n",
       "    <tr>\n",
       "      <th>597125</th>\n",
       "      <td>2017-12-29</td>\n",
       "      <td>ZTS</td>\n",
       "      <td>5.08</td>\n",
       "      <td>6933412</td>\n",
       "      <td>1365118</td>\n",
       "    </tr>\n",
       "    <tr>\n",
       "      <th>597126</th>\n",
       "      <td>2017-12-29</td>\n",
       "      <td>ZUMZ</td>\n",
       "      <td>10.13</td>\n",
       "      <td>2522939</td>\n",
       "      <td>249134</td>\n",
       "    </tr>\n",
       "    <tr>\n",
       "      <th>597127</th>\n",
       "      <td>2017-12-29</td>\n",
       "      <td>ZYME</td>\n",
       "      <td>3.49</td>\n",
       "      <td>39464</td>\n",
       "      <td>11309</td>\n",
       "    </tr>\n",
       "    <tr>\n",
       "      <th>597128</th>\n",
       "      <td>2017-12-29</td>\n",
       "      <td>ZYXI</td>\n",
       "      <td>1.00</td>\n",
       "      <td>8375</td>\n",
       "      <td>47306</td>\n",
       "    </tr>\n",
       "  </tbody>\n",
       "</table>\n",
       "<p>597129 rows × 5 columns</p>\n",
       "</div>"
      ],
      "text/plain": [
       "              date ticker    d2c    shorts    volume\n",
       "0       2025-09-15      A   1.66   3204313   1934505\n",
       "1       2025-09-15     AA   1.59  10436592   6581132\n",
       "2       2025-09-15    AAL   1.00  72107910  88082868\n",
       "3       2025-09-15   AAOI   2.39  12200411   5101161\n",
       "4       2025-09-15   AAON   6.31   5935170    940702\n",
       "...            ...    ...    ...       ...       ...\n",
       "597124  2017-12-29   ZNGA   1.77  12200625   6908904\n",
       "597125  2017-12-29    ZTS   5.08   6933412   1365118\n",
       "597126  2017-12-29   ZUMZ  10.13   2522939    249134\n",
       "597127  2017-12-29   ZYME   3.49     39464     11309\n",
       "597128  2017-12-29   ZYXI   1.00      8375     47306\n",
       "\n",
       "[597129 rows x 5 columns]"
      ]
     },
     "execution_count": 5,
     "metadata": {},
     "output_type": "execute_result"
    }
   ],
   "source": [
    "df"
   ]
  },
  {
   "cell_type": "code",
   "execution_count": 6,
   "id": "8be273c6",
   "metadata": {},
   "outputs": [],
   "source": [
    "df[\"date\"] = pd.to_datetime(df[\"date\"])\n",
    "df = df.sort_values([\"ticker\", \"date\"]).reset_index(drop=True)"
   ]
  },
  {
   "cell_type": "code",
   "execution_count": 7,
   "id": "d0336ddd",
   "metadata": {},
   "outputs": [],
   "source": [
    "df.to_csv(\"./data/dataR3000/all_short_interest.csv\", index=False)"
   ]
  },
  {
   "cell_type": "code",
   "execution_count": null,
   "id": "6f31fb73",
   "metadata": {},
   "outputs": [],
   "source": []
  }
 ],
 "metadata": {
  "kernelspec": {
   "display_name": "finance",
   "language": "python",
   "name": "python3"
  },
  "language_info": {
   "codemirror_mode": {
    "name": "ipython",
    "version": 3
   },
   "file_extension": ".py",
   "mimetype": "text/x-python",
   "name": "python",
   "nbconvert_exporter": "python",
   "pygments_lexer": "ipython3",
   "version": "3.13.2"
  }
 },
 "nbformat": 4,
 "nbformat_minor": 5
}

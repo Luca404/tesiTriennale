{
 "cells": [
  {
   "cell_type": "code",
   "execution_count": 1,
   "id": "c4121f3a",
   "metadata": {},
   "outputs": [],
   "source": [
    "import pandas as pd\n",
    "import numpy as np\n",
    "from tslearn.clustering import TimeSeriesKMeans"
   ]
  },
  {
   "cell_type": "code",
   "execution_count": null,
   "id": "ce505343",
   "metadata": {},
   "outputs": [],
   "source": [
    "INDEX = \"MS8\"\n",
    "df = pd.read_csv(f\"./data{INDEX}/merged_data.csv\", parse_dates=[\"date\"])\n",
    "\n",
    "df = df.sort_values([\"ticker\", \"date\"])\n",
    "\n",
    "features = ['d2c', 'shorts', 'trend']"
   ]
  },
  {
   "cell_type": "code",
   "execution_count": null,
   "id": "3e17a02b",
   "metadata": {},
   "outputs": [],
   "source": [
    "# Normalizziamo ogni serie per ticker (z-score)\n",
    "df[features] = df.groupby('ticker')[features].transform(\n",
    "    lambda x: (x - x.mean()) / x.std()\n",
    ")"
   ]
  },
  {
   "cell_type": "code",
   "execution_count": null,
   "id": "9dcffa79",
   "metadata": {},
   "outputs": [],
   "source": [
    "# Pivot per ottenere array: un titolo = una serie temporale multivariata\n",
    "tickers = df['ticker'].unique()\n",
    "dates = df['date'].unique()\n",
    "time_series = []\n",
    "for t in tickers:\n",
    "    sub = df[df['ticker'] == t].set_index('date').reindex(dates).fillna(0)\n",
    "    time_series.append(sub[features].values)\n",
    "\n",
    "time_series = np.array(time_series)  # shape: (n_tickers, n_timepoints, n_features)"
   ]
  },
  {
   "cell_type": "code",
   "execution_count": null,
   "id": "a6cd3d60",
   "metadata": {},
   "outputs": [],
   "source": [
    "n_clusters = 4  # numero di cluster\n",
    "model = TimeSeriesKMeans(\n",
    "    n_clusters=n_clusters,\n",
    "    metric=\"dtw\",\n",
    "    max_iter=10,\n",
    "    random_state=42,\n",
    "    verbose=True\n",
    ")\n",
    "labels = model.fit_predict(time_series)"
   ]
  }
 ],
 "metadata": {
  "kernelspec": {
   "display_name": "finance",
   "language": "python",
   "name": "python3"
  },
  "language_info": {
   "codemirror_mode": {
    "name": "ipython",
    "version": 3
   },
   "file_extension": ".py",
   "mimetype": "text/x-python",
   "name": "python",
   "nbconvert_exporter": "python",
   "pygments_lexer": "ipython3",
   "version": "3.13.2"
  }
 },
 "nbformat": 4,
 "nbformat_minor": 5
}

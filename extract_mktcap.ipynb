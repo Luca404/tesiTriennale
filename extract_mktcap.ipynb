{
 "cells": [
  {
   "cell_type": "code",
   "execution_count": 1,
   "id": "28515a93",
   "metadata": {},
   "outputs": [],
   "source": [
    "import pandas as pd"
   ]
  },
  {
   "cell_type": "code",
   "execution_count": null,
   "id": "f918989b",
   "metadata": {},
   "outputs": [],
   "source": [
    "#Clean short_interest\n",
    "data = pd.read_csv(\"data/MS8_short_interest.csv\", index_col=False)\n",
    "data = data[[\"date\", \"symbolCode\", \"daysToCoverQuantity\", \"currentShortPositionQuantity\", \"averageDailyVolumeQuantity\"]].copy()\n",
    "data.columns = [\"date\", \"ticker\", \"d2c\", \"shorts\", \"volume\" ]\n",
    "sorted = data.sort_values(by=[\"ticker\", \"date\"])\n",
    "sorted.to_csv( \"data/MS8_short_interest_W.csv\", index=False )"
   ]
  },
  {
   "cell_type": "code",
   "execution_count": 22,
   "id": "e222184c",
   "metadata": {},
   "outputs": [],
   "source": [
    "mkt_cap = pd.read_csv(\"./dataR3000/24-25/mktcap_D.csv\")\n",
    "tickers = mkt_cap[\"ticker\"].unique().tolist()\n",
    "original_tickers = pd.read_csv(\"../indexes/R3000/24-25.csv\")[\"Ticker\"].unique().tolist()\n",
    "missing_tickers = [ticker for ticker in original_tickers if ticker not in tickers]"
   ]
  },
  {
   "cell_type": "code",
   "execution_count": 11,
   "id": "0fbd08fc",
   "metadata": {},
   "outputs": [],
   "source": [
    "#Estraggo capitalizzazione annuale\n",
    "YEAR = \"20-21\"\n",
    "df = pd.read_csv(f\"./dataR3000/{YEAR}/mktcap_D.csv\")\n",
    "\n",
    "df['date'] = pd.to_datetime(df['date'])\n",
    "tickers = sorted(df['ticker'].unique())\n",
    "years = sorted(df['date'].dt.year.unique())\n",
    "\n",
    "# costruiamo target_dates\n",
    "target_dates = pd.DataFrame(\n",
    "    [(t, pd.Timestamp(y, 4, 30)) for t in tickers for y in years],\n",
    "    columns=['ticker', 'target_date']\n",
    ")\n",
    "target_dates = target_dates.sort_values(['target_date', 'ticker']).reset_index(drop=True)\n",
    "\n",
    "df_sorted = df.sort_values(['date', 'ticker']).reset_index(drop=True)\n",
    "\n",
    "# Merge unico con merge_asof\n",
    "df_merged = pd.merge_asof(\n",
    "    target_dates,\n",
    "    df_sorted,\n",
    "    left_on='target_date',\n",
    "    right_on='date',\n",
    "    by='ticker',\n",
    "    direction='nearest'\n",
    ")\n",
    "\n",
    "# distanza in giorni e filtro\n",
    "df_merged['diff_days'] = (df_merged['date'] - df_merged['target_date']).abs().dt.days\n",
    "df_filtered = df_merged[df_merged['diff_days'] <= 100].copy()\n",
    "\n",
    "df_filtered = df_filtered[['date','ticker','marketCap']].sort_values(['ticker','date']).reset_index(drop=True)\n",
    "df_filtered.to_csv(f\"./dataR3000/{YEAR}/mktcap_Y.csv\", index=False)"
   ]
  },
  {
   "cell_type": "code",
   "execution_count": 55,
   "id": "b22c47c7",
   "metadata": {},
   "outputs": [],
   "source": [
    "tickers1 = pd.read_csv(\"./dataR3000/24-25/mktcap_Y.csv\")[\"ticker\"].dropna().unique().tolist()\n",
    "tickers2 = pd.read_csv(\"./dataR3000/23-24/mktcap_Y.csv\")[\"ticker\"].dropna().unique().tolist()\n",
    "tickers3 = pd.read_csv(\"./dataR3000/22-23/mktcap_Y.csv\")[\"ticker\"].dropna().unique().tolist()\n",
    "tickers4 = pd.read_csv(\"./dataR3000/21-22/mktcap_Y.csv\")[\"ticker\"].dropna().unique().tolist()\n",
    "tickers5 = pd.read_csv(\"./dataR3000/20-21/mktcap_Y.csv\")[\"ticker\"].dropna().unique().tolist()\n",
    "\n",
    "t = tickers1 + tickers2 + tickers3 + tickers4 + tickers5\n",
    "df = pd.DataFrame(t, columns=[\"ticker\"])\n",
    "df.to_csv(\"./dataR3000/all_tickers.csv\", index=False)"
   ]
  },
  {
   "cell_type": "code",
   "execution_count": 56,
   "id": "324fbf35",
   "metadata": {},
   "outputs": [],
   "source": [
    "df1 = pd.read_csv(\"./dataR3000/24-25/mktcap_Y.csv\")\n",
    "df2 = pd.read_csv(\"./dataR3000/23-24/mktcap_Y.csv\")\n",
    "df3 = pd.read_csv(\"./dataR3000/22-23/mktcap_Y.csv\")\n",
    "df4 = pd.read_csv(\"./dataR3000/21-22/mktcap_Y.csv\")\n",
    "df5 = pd.read_csv(\"./dataR3000/20-21/mktcap_Y.csv\")\n",
    "\n",
    "df = pd.concat([df1, df2, df3, df4, df5], ignore_index=True)\n",
    "df.to_csv( \"./dataR3000/all_mktcap_Y.csv\", index=False )"
   ]
  },
  {
   "cell_type": "code",
   "execution_count": 17,
   "id": "40658878",
   "metadata": {},
   "outputs": [],
   "source": [
    "YEAR = \"20-21\"\n",
    "TARGET_YEAR = 2020\n",
    "MIN_CAP = 100_000_000    # 100 milioni\n",
    "MAX_CAP = 5_000_000_000  # 5 miliardi\n",
    "\n",
    "tickers = pd.read_csv(f\"../indexes/R3000/{YEAR}.csv\")[\"Ticker\"].unique().tolist()\n",
    "mkt_cap = pd.read_csv(f\"./dataR3000/all_mktcap_Y.csv\")"
   ]
  },
  {
   "cell_type": "code",
   "execution_count": 18,
   "id": "106b5e8e",
   "metadata": {},
   "outputs": [],
   "source": [
    "mkt_cap[\"date\"] = pd.to_datetime(mkt_cap[\"date\"])\n",
    "mkt_cap = mkt_cap[mkt_cap[\"date\"].dt.year == TARGET_YEAR]"
   ]
  },
  {
   "cell_type": "code",
   "execution_count": 19,
   "id": "8e082b85",
   "metadata": {},
   "outputs": [],
   "source": [
    "filtered = mkt_cap[\n",
    "    (mkt_cap[\"ticker\"].isin(tickers)) &\n",
    "    (mkt_cap[\"marketCap\"] >= MIN_CAP) &\n",
    "    (mkt_cap[\"marketCap\"] <= MAX_CAP)\n",
    "]"
   ]
  },
  {
   "cell_type": "code",
   "execution_count": 20,
   "id": "ce8d54c0",
   "metadata": {},
   "outputs": [],
   "source": [
    "filtered = filtered.sort_values(\"marketCap\", ascending=False).reset_index(drop=True)"
   ]
  },
  {
   "cell_type": "code",
   "execution_count": 21,
   "id": "241f4878",
   "metadata": {},
   "outputs": [],
   "source": [
    "filtered.to_csv(f\"./dataR3000/{YEAR}/filtered_tickers.csv\", index=False)"
   ]
  },
  {
   "cell_type": "code",
   "execution_count": 66,
   "id": "b9591f99",
   "metadata": {},
   "outputs": [],
   "source": [
    "r2000 = pd.read_csv(\"../indexes/R2000.csv\")[\"Ticker\"].unique().tolist()\n",
    "new_r2000 = filtered[\"ticker\"].unique().tolist()"
   ]
  },
  {
   "cell_type": "code",
   "execution_count": 67,
   "id": "08283904",
   "metadata": {},
   "outputs": [
    {
     "data": {
      "text/plain": [
       "2021"
      ]
     },
     "execution_count": 67,
     "metadata": {},
     "output_type": "execute_result"
    }
   ],
   "source": [
    "len(new_r2000)"
   ]
  },
  {
   "cell_type": "code",
   "execution_count": 71,
   "id": "02fab630",
   "metadata": {},
   "outputs": [],
   "source": [
    "diff = [ticker for ticker in r2000 if ticker not in new_r2000]"
   ]
  },
  {
   "cell_type": "code",
   "execution_count": 72,
   "id": "7dd8ef24",
   "metadata": {},
   "outputs": [
    {
     "data": {
      "text/plain": [
       "200"
      ]
     },
     "execution_count": 72,
     "metadata": {},
     "output_type": "execute_result"
    }
   ],
   "source": [
    "len(diff)"
   ]
  },
  {
   "cell_type": "code",
   "execution_count": null,
   "id": "4df64300",
   "metadata": {},
   "outputs": [],
   "source": []
  }
 ],
 "metadata": {
  "kernelspec": {
   "display_name": "finance",
   "language": "python",
   "name": "python3"
  },
  "language_info": {
   "codemirror_mode": {
    "name": "ipython",
    "version": 3
   },
   "file_extension": ".py",
   "mimetype": "text/x-python",
   "name": "python",
   "nbconvert_exporter": "python",
   "pygments_lexer": "ipython3",
   "version": "3.13.2"
  }
 },
 "nbformat": 4,
 "nbformat_minor": 5
}

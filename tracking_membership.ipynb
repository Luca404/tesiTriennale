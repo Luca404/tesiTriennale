{
 "cells": [
  {
   "cell_type": "code",
   "execution_count": 1,
   "id": "e61f0242",
   "metadata": {},
   "outputs": [],
   "source": [
    "import pandas as pd\n",
    "import glob\n",
    "import os"
   ]
  },
  {
   "cell_type": "code",
   "execution_count": 32,
   "id": "428ef27e",
   "metadata": {},
   "outputs": [],
   "source": [
    "# Cartella con i CSV annuali filtrati\n",
    "folder = \"./dataR3000/\"\n",
    "files = sorted(glob.glob(os.path.join(folder, \"*/filtered_tickers.csv\")))  # ordinati per nome"
   ]
  },
  {
   "cell_type": "code",
   "execution_count": 33,
   "id": "a308b156",
   "metadata": {},
   "outputs": [],
   "source": [
    "data = []\n",
    "# Carica tutti i file e aggiungi colonna Year\n",
    "for f in files:\n",
    "    year = 2000 + int( f.split(\"\\\\\")[1].split(\"-\")[0] )\n",
    "    df = pd.read_csv(f)\n",
    "    df[\"year\"] = year\n",
    "    data.append(df[[\"ticker\", \"year\"]])\n",
    "\n",
    "all_data = pd.concat(data, ignore_index=True)"
   ]
  },
  {
   "cell_type": "code",
   "execution_count": 34,
   "id": "640650f9",
   "metadata": {},
   "outputs": [],
   "source": [
    "# Trova primo e ultimo anno per ogni ticker\n",
    "ingressi = all_data.groupby(\"ticker\")[\"year\"].min().rename(\"ingresso\")\n",
    "uscite = all_data.groupby(\"ticker\")[\"year\"].max().rename(\"uscita\")\n",
    "\n",
    "# Anno massimo disponibile\n",
    "last_year = all_data[\"year\"].max() + 1\n",
    "\n",
    "# Aggiusta l'uscita: +1, tranne se è l'ultimo anno\n",
    "uscite = uscite.apply(lambda x: 0 if x + 1 == last_year else x + 1)"
   ]
  },
  {
   "cell_type": "code",
   "execution_count": 35,
   "id": "58eef042",
   "metadata": {},
   "outputs": [],
   "source": [
    "# Dataframe finale\n",
    "result = pd.DataFrame({\"ticker\": all_data[\"ticker\"].unique()})\n",
    "result = result.merge(ingressi, on=\"ticker\")\n",
    "result = result.merge(uscite, on=\"ticker\")"
   ]
  },
  {
   "cell_type": "code",
   "execution_count": 36,
   "id": "e8ca3bc7",
   "metadata": {},
   "outputs": [],
   "source": [
    "# Se il ticker è ancora presente nell'ultimo anno, setta uscita=0\n",
    "result.loc[result[\"uscita\"] == last_year, \"uscita\"] = 0"
   ]
  },
  {
   "cell_type": "code",
   "execution_count": 37,
   "id": "76e8f524",
   "metadata": {},
   "outputs": [],
   "source": [
    "result.to_csv(\"./historical_total_tickers.csv\", index=False)"
   ]
  },
  {
   "cell_type": "code",
   "execution_count": null,
   "id": "31102209",
   "metadata": {},
   "outputs": [],
   "source": []
  }
 ],
 "metadata": {
  "kernelspec": {
   "display_name": "finance",
   "language": "python",
   "name": "python3"
  },
  "language_info": {
   "codemirror_mode": {
    "name": "ipython",
    "version": 3
   },
   "file_extension": ".py",
   "mimetype": "text/x-python",
   "name": "python",
   "nbconvert_exporter": "python",
   "pygments_lexer": "ipython3",
   "version": "3.13.2"
  }
 },
 "nbformat": 4,
 "nbformat_minor": 5
}

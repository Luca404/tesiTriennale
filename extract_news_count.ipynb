{
 "cells": [
  {
   "cell_type": "code",
   "execution_count": 1,
   "id": "440d2782",
   "metadata": {},
   "outputs": [],
   "source": [
    "import pandas as pd"
   ]
  },
  {
   "cell_type": "code",
   "execution_count": 2,
   "id": "634e0650",
   "metadata": {},
   "outputs": [],
   "source": [
    "INDEX = \"MS50\"\n",
    "df = pd.read_csv( f\"./data/{INDEX}/news_D.csv\" )"
   ]
  },
  {
   "cell_type": "code",
   "execution_count": 3,
   "id": "82cb675f",
   "metadata": {},
   "outputs": [],
   "source": [
    "df[\"date\"] = pd.to_datetime(df[\"date\"], errors=\"coerce\", utc=True)\n",
    "df[\"date\"] = df[\"date\"].dt.tz_convert(None)\n",
    "df[\"date\"] = df[\"date\"].dt.floor(\"D\")\n",
    "df = df.dropna(subset=[\"date\", \"ticker\"])"
   ]
  },
  {
   "cell_type": "code",
   "execution_count": 4,
   "id": "b35e53f3",
   "metadata": {},
   "outputs": [],
   "source": [
    "#weekly = ( df.groupby( [\"ticker\", pd.Grouper(key=\"date\", freq=\"W-SUN\")] ).size().rename(\"news_count\").reset_index() )\n",
    "daily = (\n",
    "    df.groupby([\"ticker\", \"date\"])\n",
    "        .size()\n",
    "        .reset_index(name=\"news_count\")\n",
    "        .sort_values([\"ticker\",\"date\"])\n",
    "        .reset_index(drop=True)\n",
    ")"
   ]
  },
  {
   "cell_type": "code",
   "execution_count": 5,
   "id": "f50d496a",
   "metadata": {},
   "outputs": [
    {
     "name": "stderr",
     "output_type": "stream",
     "text": [
      "C:\\Users\\Lika44\\AppData\\Local\\Temp\\ipykernel_24572\\3960079796.py:7: FutureWarning: The previous implementation of stack is deprecated and will be removed in a future version of pandas. See the What's New notes for pandas 2.1.0 for details. Specify future_stack=True to adopt the new implementation and silence this warning.\n",
      "  wide.stack(dropna=False)\n"
     ]
    }
   ],
   "source": [
    "wide = daily.pivot(index=\"date\", columns=\"ticker\", values=\"news_count\")\n",
    "full_days = pd.date_range(start=pd.to_datetime(\"2020-01-01\"), end=df[\"date\"].max().normalize(), freq=\"D\")\n",
    "wide = wide.reindex(full_days)\n",
    "wide.index.name = \"date\"\n",
    "wide = wide.fillna(0).astype(\"int64\")\n",
    "daily_full = (\n",
    "    wide.stack(dropna=False)\n",
    "        .rename(\"news_count\")\n",
    "        .reset_index()\n",
    "        .rename(columns={\"level_1\":\"ticker\"})\n",
    "        .sort_values([\"ticker\",\"date\"])\n",
    "        .reset_index(drop=True)\n",
    ")"
   ]
  },
  {
   "cell_type": "code",
   "execution_count": 6,
   "id": "ddea9e69",
   "metadata": {},
   "outputs": [],
   "source": [
    "daily_full.to_csv( f\"./data/{INDEX}/news_volume_D.csv\", index=False )"
   ]
  },
  {
   "cell_type": "code",
   "execution_count": null,
   "id": "3632c3b1",
   "metadata": {},
   "outputs": [],
   "source": []
  }
 ],
 "metadata": {
  "kernelspec": {
   "display_name": "finance",
   "language": "python",
   "name": "python3"
  },
  "language_info": {
   "codemirror_mode": {
    "name": "ipython",
    "version": 3
   },
   "file_extension": ".py",
   "mimetype": "text/x-python",
   "name": "python",
   "nbconvert_exporter": "python",
   "pygments_lexer": "ipython3",
   "version": "3.13.2"
  }
 },
 "nbformat": 4,
 "nbformat_minor": 5
}

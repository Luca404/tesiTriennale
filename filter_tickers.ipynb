{
 "cells": [
  {
   "cell_type": "code",
   "execution_count": 1,
   "id": "d56e6149",
   "metadata": {},
   "outputs": [],
   "source": [
    "import pandas as pd"
   ]
  },
  {
   "cell_type": "code",
   "execution_count": 16,
   "id": "1c1cc685",
   "metadata": {},
   "outputs": [],
   "source": [
    "tickers = pd.read_csv( \"./data/dataR3000/all_tickers.csv\" )\n",
    "mkt_cap = pd.read_csv( \"./data/dataR3000/all_mktcap_Y.csv\" )"
   ]
  },
  {
   "cell_type": "code",
   "execution_count": 17,
   "id": "d030aa4c",
   "metadata": {},
   "outputs": [],
   "source": [
    "avg_mktcap = (\n",
    "    mkt_cap.groupby(\"ticker\", as_index=False)[\"marketCap\"]\n",
    "      .mean()\n",
    "      .rename(columns={\"marketCap\": \"avg_mktcap\"})\n",
    ")"
   ]
  },
  {
   "cell_type": "code",
   "execution_count": 18,
   "id": "3ab8e2af",
   "metadata": {},
   "outputs": [],
   "source": [
    "filtered = avg_mktcap[\n",
    "    (avg_mktcap[\"avg_mktcap\"] > 3e8) & \n",
    "    (avg_mktcap[\"avg_mktcap\"] < 10e9)\n",
    "]"
   ]
  },
  {
   "cell_type": "code",
   "execution_count": 19,
   "id": "bf1e29d2",
   "metadata": {},
   "outputs": [],
   "source": [
    "tickers_filtered = filtered[\"ticker\"].tolist()"
   ]
  },
  {
   "cell_type": "code",
   "execution_count": 20,
   "id": "caea06af",
   "metadata": {},
   "outputs": [
    {
     "data": {
      "text/plain": [
       "2603"
      ]
     },
     "execution_count": 20,
     "metadata": {},
     "output_type": "execute_result"
    }
   ],
   "source": [
    "len(tickers_filtered)"
   ]
  },
  {
   "cell_type": "code",
   "execution_count": 25,
   "id": "a9f28b16",
   "metadata": {},
   "outputs": [
    {
     "data": {
      "text/html": [
       "<div>\n",
       "<style scoped>\n",
       "    .dataframe tbody tr th:only-of-type {\n",
       "        vertical-align: middle;\n",
       "    }\n",
       "\n",
       "    .dataframe tbody tr th {\n",
       "        vertical-align: top;\n",
       "    }\n",
       "\n",
       "    .dataframe thead th {\n",
       "        text-align: right;\n",
       "    }\n",
       "</style>\n",
       "<table border=\"1\" class=\"dataframe\">\n",
       "  <thead>\n",
       "    <tr style=\"text-align: right;\">\n",
       "      <th></th>\n",
       "      <th>ticker</th>\n",
       "      <th>avg_mktcap</th>\n",
       "    </tr>\n",
       "  </thead>\n",
       "  <tbody>\n",
       "    <tr>\n",
       "      <th>1556</th>\n",
       "      <td>GME</td>\n",
       "      <td>7.117988e+09</td>\n",
       "    </tr>\n",
       "  </tbody>\n",
       "</table>\n",
       "</div>"
      ],
      "text/plain": [
       "     ticker    avg_mktcap\n",
       "1556    GME  7.117988e+09"
      ]
     },
     "execution_count": 25,
     "metadata": {},
     "output_type": "execute_result"
    }
   ],
   "source": [
    "avg_mktcap[avg_mktcap[\"ticker\"] == \"GME\"]"
   ]
  },
  {
   "cell_type": "code",
   "execution_count": null,
   "id": "81551707",
   "metadata": {},
   "outputs": [],
   "source": []
  }
 ],
 "metadata": {
  "kernelspec": {
   "display_name": "Python 3",
   "language": "python",
   "name": "python3"
  },
  "language_info": {
   "codemirror_mode": {
    "name": "ipython",
    "version": 3
   },
   "file_extension": ".py",
   "mimetype": "text/x-python",
   "name": "python",
   "nbconvert_exporter": "python",
   "pygments_lexer": "ipython3",
   "version": "3.11.13"
  }
 },
 "nbformat": 4,
 "nbformat_minor": 5
}

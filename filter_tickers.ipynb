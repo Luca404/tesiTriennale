{
 "cells": [
  {
   "cell_type": "code",
   "execution_count": 1,
   "id": "d56e6149",
   "metadata": {},
   "outputs": [],
   "source": [
    "import pandas as pd"
   ]
  },
  {
   "cell_type": "code",
   "execution_count": 72,
   "id": "9a89ab48",
   "metadata": {},
   "outputs": [],
   "source": [
    "#Filtro i ticker per mktcap (>100 milioni e <10 miliardi), per volume medio giornaliero (>500k) e per presenza di dati su ShortInterest"
   ]
  },
  {
   "cell_type": "code",
   "execution_count": 73,
   "id": "1c1cc685",
   "metadata": {},
   "outputs": [],
   "source": [
    "tickers = pd.read_csv( \"./data/dataR3000/all_tickers.csv\" )\n",
    "mkt_cap = pd.read_csv( \"./data/dataR3000/all_mktcap_Y.csv\" )\n",
    "short_interest = pd.read_csv( \"./data/dataR3000/all_short_interest.csv\" )"
   ]
  },
  {
   "cell_type": "code",
   "execution_count": 74,
   "id": "d030aa4c",
   "metadata": {},
   "outputs": [],
   "source": [
    "#Filtro per mktcap\n",
    "avg_mktcap = (\n",
    "    mkt_cap.groupby(\"ticker\", as_index=False)[\"marketCap\"]\n",
    "      .mean()\n",
    "      .rename(columns={\"marketCap\": \"avg_mktcap\"})\n",
    ")\n",
    "filtered_mktcap = avg_mktcap[\n",
    "    (avg_mktcap[\"avg_mktcap\"] > 1e8) & \n",
    "    (avg_mktcap[\"avg_mktcap\"] < 10e9)\n",
    "]"
   ]
  },
  {
   "cell_type": "code",
   "execution_count": 75,
   "id": "ed652ee0",
   "metadata": {},
   "outputs": [],
   "source": [
    "#Filtro per volume\n",
    "avg_vol = (\n",
    "    short_interest.groupby(\"ticker\", as_index=False)[\"volume\"]\n",
    "    .mean()\n",
    "    .rename(columns={\"volume\": \"avg_volume\"})\n",
    ")\n",
    "filtered_vol = avg_vol[avg_vol[\"avg_volume\"] > 5e5]"
   ]
  },
  {
   "cell_type": "code",
   "execution_count": 76,
   "id": "3ab8e2af",
   "metadata": {},
   "outputs": [],
   "source": [
    "filtered = filtered_mktcap.merge(filtered_vol, on=\"ticker\", how=\"inner\")"
   ]
  },
  {
   "cell_type": "code",
   "execution_count": 77,
   "id": "ed8caf0f",
   "metadata": {},
   "outputs": [],
   "source": [
    "tickers_filtered = filtered[\"ticker\"].tolist()"
   ]
  },
  {
   "cell_type": "code",
   "execution_count": 78,
   "id": "bf1e29d2",
   "metadata": {},
   "outputs": [],
   "source": [
    "#Tengo solo i ticker per cui ho dati su short interest\n",
    "short_tickers = short_interest[\"ticker\"].unique().tolist()\n",
    "final_tickers = [t for t in tickers_filtered if t in short_tickers]"
   ]
  },
  {
   "cell_type": "code",
   "execution_count": null,
   "id": "f8892c6e",
   "metadata": {},
   "outputs": [],
   "source": [
    "final_df = pd.DataFrame( final_tickers )\n",
    "final_df.columns = [\"ticker\"]"
   ]
  },
  {
   "cell_type": "code",
   "execution_count": 87,
   "id": "f1b2852d",
   "metadata": {},
   "outputs": [],
   "source": [
    "final_df.to_csv( \"./data/dataR3000/all_tickers_filtered.csv\", index=False )"
   ]
  },
  {
   "cell_type": "code",
   "execution_count": null,
   "id": "ac8d62b0",
   "metadata": {},
   "outputs": [
    {
     "data": {
      "text/plain": [
       "1593"
      ]
     },
     "execution_count": 79,
     "metadata": {},
     "output_type": "execute_result"
    }
   ],
   "source": [
    "len(final_tickers)"
   ]
  },
  {
   "cell_type": "code",
   "execution_count": 82,
   "id": "418cab5d",
   "metadata": {},
   "outputs": [
    {
     "name": "stdout",
     "output_type": "stream",
     "text": [
      "Pollo\n"
     ]
    }
   ],
   "source": [
    "if \"EXPR\" in final_tickers:\n",
    "    print(\"Pollo\")"
   ]
  },
  {
   "cell_type": "code",
   "execution_count": 81,
   "id": "30736cfe",
   "metadata": {},
   "outputs": [
    {
     "data": {
      "text/html": [
       "<div>\n",
       "<style scoped>\n",
       "    .dataframe tbody tr th:only-of-type {\n",
       "        vertical-align: middle;\n",
       "    }\n",
       "\n",
       "    .dataframe tbody tr th {\n",
       "        vertical-align: top;\n",
       "    }\n",
       "\n",
       "    .dataframe thead th {\n",
       "        text-align: right;\n",
       "    }\n",
       "</style>\n",
       "<table border=\"1\" class=\"dataframe\">\n",
       "  <thead>\n",
       "    <tr style=\"text-align: right;\">\n",
       "      <th></th>\n",
       "      <th>ticker</th>\n",
       "      <th>avg_volume</th>\n",
       "    </tr>\n",
       "  </thead>\n",
       "  <tbody>\n",
       "  </tbody>\n",
       "</table>\n",
       "</div>"
      ],
      "text/plain": [
       "Empty DataFrame\n",
       "Columns: [ticker, avg_volume]\n",
       "Index: []"
      ]
     },
     "execution_count": 81,
     "metadata": {},
     "output_type": "execute_result"
    }
   ],
   "source": [
    "avg_vol[ avg_vol[\"ticker\"] == \"BB\" ]"
   ]
  }
 ],
 "metadata": {
  "kernelspec": {
   "display_name": "finance",
   "language": "python",
   "name": "python3"
  },
  "language_info": {
   "codemirror_mode": {
    "name": "ipython",
    "version": 3
   },
   "file_extension": ".py",
   "mimetype": "text/x-python",
   "name": "python",
   "nbconvert_exporter": "python",
   "pygments_lexer": "ipython3",
   "version": "3.13.2"
  }
 },
 "nbformat": 4,
 "nbformat_minor": 5
}
